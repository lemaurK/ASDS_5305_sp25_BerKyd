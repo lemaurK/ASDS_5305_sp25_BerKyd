{
  "nbformat": 4,
  "nbformat_minor": 0,
  "metadata": {
    "colab": {
      "provenance": [],
      "machine_shape": "hm",
      "gpuType": "T4"
    },
    "kernelspec": {
      "name": "python3",
      "display_name": "Python 3"
    },
    "language_info": {
      "name": "python"
    },
    "accelerator": "GPU"
  },
  "cells": [
    {
      "cell_type": "markdown",
      "source": [
        "<h1><center> ASDS 5303 Final Project Assignment #4 Dataset 1: Drug SMILES Strings and Classifications - Different Optimizers </center></h1>"
      ],
      "metadata": {
        "id": "iBjuncnlnQzx"
      }
    },
    {
      "cell_type": "markdown",
      "source": [
        "## Group Members\n",
        "### Henry Berrios #1001392315\n",
        "### LeMaur Kydd #1001767382"
      ],
      "metadata": {
        "id": "FiFKuEIJnziU"
      }
    },
    {
      "cell_type": "code",
      "source": [
        "# importing libraries (same as previous assignments, partially filled by google colab autofill)\n",
        "import os\n",
        "os.environ['CUDA_LAUNCH_BLOCKING'] = '1'\n",
        "import pandas as pd\n",
        "import numpy as np\n",
        "from scipy.io import wavfile\n",
        "import time\n",
        "\n",
        "import torch\n",
        "import torch.nn as nn\n",
        "import torch.optim as optim\n",
        "import tensorflow as tf\n",
        "import torch.nn.functional as F\n",
        "from torch.utils.data import TensorDataset, DataLoader\n",
        "from tensorflow.keras.preprocessing.text import Tokenizer\n",
        "from tensorflow.keras.preprocessing.sequence import pad_sequences\n",
        "\n",
        "import matplotlib.pyplot as plt\n",
        "from sklearn.preprocessing import StandardScaler\n",
        "from sklearn.preprocessing import LabelEncoder\n",
        "from sklearn.model_selection import train_test_split\n",
        "import torch.nn.functional as F\n",
        "from sklearn.metrics import accuracy_score, precision_score, recall_score, f1_score, confusion_matrix, classification_report\n",
        "\n",
        "from google.colab import drive"
      ],
      "metadata": {
        "id": "iBcmkfnjoTyO"
      },
      "execution_count": null,
      "outputs": []
    },
    {
      "cell_type": "markdown",
      "source": [
        "# **A. Creating a Deep Neural Network and Optimizing Network Depth and Width (From Assignment 3)**"
      ],
      "metadata": {
        "id": "0xh23XOToA9m"
      }
    },
    {
      "cell_type": "code",
      "execution_count": null,
      "metadata": {
        "id": "TcwUMeCsksq2"
      },
      "outputs": [],
      "source": [
        "# using cuda if we can\n",
        "device = torch.device(\"cuda\" if torch.cuda.is_available() else \"cpu\")"
      ]
    },
    {
      "cell_type": "code",
      "source": [
        "# loading pre processed data\n",
        "mounth_drive = '/content/drive'\n",
        "drive.mount(mounth_drive)\n",
        "\n",
        "X_train = torch.load('/content/drive/MyDrive/X_train_tensor_d1.pt').to(device)\n",
        "X_test = torch.load('/content/drive/MyDrive/X_test_tensor_d1.pt').to(device)\n",
        "y_train = torch.load('/content/drive/MyDrive/y_train_tensor_d1.pt').to(device)\n",
        "y_test = torch.load('/content/drive/MyDrive/y_test_tensor_d1.pt').to(device)"
      ],
      "metadata": {
        "id": "zTZh3-IgpJB9",
        "colab": {
          "base_uri": "https://localhost:8080/"
        },
        "outputId": "cea02ddf-b895-4bfc-e514-73190b2c5104"
      },
      "execution_count": null,
      "outputs": [
        {
          "output_type": "stream",
          "name": "stdout",
          "text": [
            "Mounted at /content/drive\n"
          ]
        }
      ]
    },
    {
      "cell_type": "code",
      "source": [
        "# checking shape of tensors\n",
        "print(X_train.shape)\n",
        "print(y_train.shape)\n",
        "print(X_test.shape)\n",
        "print(y_test.shape)"
      ],
      "metadata": {
        "id": "a1E4eDK8vCyM",
        "colab": {
          "base_uri": "https://localhost:8080/"
        },
        "outputId": "48f5ae6d-975f-4049-fc76-84b6ee09cce8"
      },
      "execution_count": null,
      "outputs": [
        {
          "output_type": "stream",
          "name": "stdout",
          "text": [
            "torch.Size([5548, 399, 128])\n",
            "torch.Size([5548, 5])\n",
            "torch.Size([1387, 399, 128])\n",
            "torch.Size([1387, 5])\n"
          ]
        }
      ]
    },
    {
      "cell_type": "code",
      "source": [
        "# defining a neural network (debugging assisted by OpenAI's ChatGPT)\n",
        "class DeepNetwork(nn.Module):\n",
        "  def __init__(self, input_size, hidden_layers, hidden_units, output_size):\n",
        "    super(DeepNetwork, self).__init__()\n",
        "    layers = []\n",
        "    layers.append(nn.Linear(input_size, hidden_units))\n",
        "    layers.append(nn.ReLU())\n",
        "\n",
        "    for _ in range(hidden_layers - 1):\n",
        "      layers.append(nn.Linear(hidden_units, hidden_units))\n",
        "      layers.append(nn.ReLU())\n",
        "\n",
        "    layers.append(nn.Linear(hidden_units, output_size))\n",
        "    self.model = nn.Sequential(*layers)\n",
        "\n",
        "  def forward(self, x):\n",
        "    x = x.view(x.size(0), -1) # flattens the output\n",
        "    return self.model(x)"
      ],
      "metadata": {
        "id": "SbnxFj0fqgy7"
      },
      "execution_count": null,
      "outputs": []
    },
    {
      "cell_type": "code",
      "source": [
        "# testing on small sample\n",
        "sample_inputs = X_train[:100].to(device)"
      ],
      "metadata": {
        "id": "Kiuta3CDub7Z"
      },
      "execution_count": null,
      "outputs": []
    },
    {
      "cell_type": "code",
      "source": [
        "# passing through the model\n",
        "deep_test_model = DeepNetwork(input_size = sample_inputs.shape[1] * sample_inputs.shape[2], hidden_layers = 2, hidden_units = 128, output_size = y_train.shape[1]).to(device)\n",
        "\n",
        "sample_output = deep_test_model(sample_inputs)\n",
        "\n",
        "print(sample_output.shape)"
      ],
      "metadata": {
        "id": "0BqQjQEwwDsl",
        "colab": {
          "base_uri": "https://localhost:8080/"
        },
        "outputId": "cd395a3c-da6a-4018-c9a9-6fe341dc0290"
      },
      "execution_count": null,
      "outputs": [
        {
          "output_type": "stream",
          "name": "stdout",
          "text": [
            "torch.Size([100, 5])\n"
          ]
        }
      ]
    },
    {
      "cell_type": "code",
      "source": [
        "# checking for training errors (large portions of code are autofilled by google colab's gemini)\n",
        "criterion = nn.CrossEntropyLoss()\n",
        "optimizer = optim.Adam(deep_test_model.parameters(), lr=0.001)\n",
        "\n",
        "sample_train = y_train[:100].to(device)\n",
        "optimizer.zero_grad()\n",
        "outputs = deep_test_model(sample_inputs)\n",
        "loss = criterion(outputs, sample_train)\n",
        "loss.backward()\n",
        "optimizer.step()\n",
        "\n",
        "print(loss.item())"
      ],
      "metadata": {
        "id": "B4B85v-9xMf2",
        "colab": {
          "base_uri": "https://localhost:8080/"
        },
        "outputId": "3f974857-52b3-42b7-8589-569ec328dfda"
      },
      "execution_count": null,
      "outputs": [
        {
          "output_type": "stream",
          "name": "stdout",
          "text": [
            "1.590869426727295\n"
          ]
        }
      ]
    },
    {
      "cell_type": "code",
      "source": [
        "# training on small sample (large portions of code are autofilled by google colab's gemini)\n",
        "small_train_loader = DataLoader(TensorDataset(X_train[:10], y_train[:10]), batch_size=2, shuffle=True)\n",
        "\n",
        "for epoch in range(10):\n",
        "  deep_test_model.train()\n",
        "  epoch_loss = 0\n",
        "\n",
        "  for batch_x, batch_y in small_train_loader:\n",
        "    batch_x, batch_y = batch_x.to(device), batch_y.to(device)\n",
        "    optimizer.zero_grad()\n",
        "\n",
        "    outputs = deep_test_model(batch_x)\n",
        "    loss = criterion(outputs, batch_y)\n",
        "\n",
        "    loss.backward()\n",
        "    optimizer.step()\n",
        "\n",
        "    epoch_loss += loss.item()\n",
        "\n",
        "  print(f\"Epoch {epoch+1}, Loss: {epoch_loss/len(small_train_loader)}\")"
      ],
      "metadata": {
        "id": "ic5oKgLAxoj_",
        "colab": {
          "base_uri": "https://localhost:8080/"
        },
        "outputId": "06a90ea5-20c7-4749-d250-e4511192c2c8"
      },
      "execution_count": null,
      "outputs": [
        {
          "output_type": "stream",
          "name": "stdout",
          "text": [
            "Epoch 1, Loss: 9.276565075665712\n",
            "Epoch 2, Loss: 5.6124705374240875\n",
            "Epoch 3, Loss: 3.936812510713935\n",
            "Epoch 4, Loss: 3.559681683778763\n",
            "Epoch 5, Loss: 0.7674056708812713\n",
            "Epoch 6, Loss: 0.626580173894763\n",
            "Epoch 7, Loss: 0.4207713872152453\n",
            "Epoch 8, Loss: 0.12539518028497695\n",
            "Epoch 9, Loss: 0.07854308672249317\n",
            "Epoch 10, Loss: 0.032095400337129834\n"
          ]
        }
      ]
    },
    {
      "cell_type": "markdown",
      "source": [
        "### **Optimizing Network Depth and Width**"
      ],
      "metadata": {
        "id": "fvcYigbxoFJn"
      }
    },
    {
      "cell_type": "code",
      "source": [
        "# optimizing network depth and width (large portions of code are autofilled by google colab's gemini)\n",
        "def train_deep_model(model, train_loader, test_loader, epochs = 20, lr = 0.001):\n",
        "  criterion = nn.CrossEntropyLoss()\n",
        "  optimizer = optim.Adam(model.parameters(), lr=lr)\n",
        "\n",
        "  train_losses = []\n",
        "  test_losses = []\n",
        "  for epoch in range(epochs):\n",
        "    model.train()\n",
        "    train_loss = 0\n",
        "\n",
        "    for batch_x, batch_y in train_loader:\n",
        "      batch_x, batch_y = batch_x.to(device), batch_y.to(device)\n",
        "      optimizer.zero_grad()\n",
        "      outputs = model(batch_x)\n",
        "      loss = criterion(outputs, batch_y)\n",
        "      loss.backward()\n",
        "      optimizer.step()\n",
        "      train_loss += loss.item()\n",
        "\n",
        "    model.eval()\n",
        "    test_loss = 0\n",
        "    with torch.no_grad():\n",
        "      for batch_x, batch_y in test_loader:\n",
        "        batch_x, batch_y = batch_x.to(device), batch_y.to(device)\n",
        "        outputs = model(batch_x)\n",
        "        loss = criterion(outputs, batch_y)\n",
        "        test_loss += loss.item()\n",
        "\n",
        "    train_loss /= len(train_loader)\n",
        "    test_loss /= len(test_loader)\n",
        "    train_losses.append(train_loss)\n",
        "    test_losses.append(test_loss)\n",
        "    print(f\"Epoch {epoch+1}, Train Loss: {train_loss}, Test Loss: {test_loss}\")\n",
        "\n",
        "  return train_losses, test_losses"
      ],
      "metadata": {
        "id": "tLvEZ7hCoKhl"
      },
      "execution_count": null,
      "outputs": []
    },
    {
      "cell_type": "code",
      "source": [
        "# testing optimization\n",
        "batch_size = 256 # trying different batch sizes"
      ],
      "metadata": {
        "id": "VRJP19Ti2v00"
      },
      "execution_count": null,
      "outputs": []
    },
    {
      "cell_type": "code",
      "source": [
        "# creating dataset to use for training and testing\n",
        "train_dataset = TensorDataset(X_train, y_train)\n",
        "test_dataset = TensorDataset(X_test, y_test)\n",
        "\n",
        "# creating dataloaders for batch processing\n",
        "train_loader = DataLoader(train_dataset, batch_size = batch_size, shuffle = True)\n",
        "test_loader = DataLoader(test_dataset, batch_size = batch_size, shuffle = False)"
      ],
      "metadata": {
        "id": "wv3lwfxy4E8w"
      },
      "execution_count": null,
      "outputs": []
    },
    {
      "cell_type": "code",
      "source": [
        "# experimenting with depths and widths\n",
        "hidden_layers_list = [1, 2, 3]\n",
        "hidden_units_list = [32, 64, 128]"
      ],
      "metadata": {
        "id": "QOWvjTCC3Gxl"
      },
      "execution_count": null,
      "outputs": []
    },
    {
      "cell_type": "code",
      "source": [
        "# initializing variables to track best model configuration\n",
        "best_loss = float('inf')\n",
        "best_config = None"
      ],
      "metadata": {
        "id": "qu8jxWVh3NYl"
      },
      "execution_count": null,
      "outputs": []
    },
    {
      "cell_type": "code",
      "source": [
        "# storing results for comparison\n",
        "results = []"
      ],
      "metadata": {
        "id": "ceC3UzdO4RP5"
      },
      "execution_count": null,
      "outputs": []
    },
    {
      "cell_type": "code",
      "source": [
        "# looping through different model configurations to find the best one (large portions of code are autofilled by google colab's gemini)\n",
        "for hidden_layers in hidden_layers_list:\n",
        "  for hidden_units in hidden_units_list:\n",
        "    print(f\"Training model with {hidden_layers} hidden layers and {hidden_units} hidden units\")\n",
        "    deep_model = DeepNetwork(input_size = X_train.shape[1] * X_train.shape[2], hidden_layers = hidden_layers, hidden_units = hidden_units, output_size = y_train.shape[1]).to(device)\n",
        "    train_losses, test_losses = train_deep_model(deep_model, train_loader, test_loader, epochs = 5, lr = 0.001)\n",
        "\n",
        "    final_test = test_losses[-1]\n",
        "    results.append((hidden_layers, hidden_units, final_test))\n",
        "\n",
        "    if final_test < best_loss:\n",
        "      best_loss = final_test\n",
        "      best_config = (hidden_layers, hidden_units)"
      ],
      "metadata": {
        "id": "PMhk5WR34ix7",
        "colab": {
          "base_uri": "https://localhost:8080/",
          "height": 865
        },
        "outputId": "b5b5b466-1f55-407b-acce-b8245123edad"
      },
      "execution_count": null,
      "outputs": [
        {
          "output_type": "stream",
          "name": "stdout",
          "text": [
            "Training model with 1 hidden layers and 32 hidden units\n",
            "Epoch 1, Train Loss: 3.223003853451122, Test Loss: 1.5412701964378357\n",
            "Epoch 2, Train Loss: 1.493269530209628, Test Loss: 1.5081941882769268\n",
            "Epoch 3, Train Loss: 1.452307034622539, Test Loss: 1.4742813507715862\n",
            "Epoch 4, Train Loss: 1.4036234400489114, Test Loss: 1.4459049503008525\n",
            "Epoch 5, Train Loss: 1.3859049894592979, Test Loss: 1.4462852279345195\n",
            "Training model with 1 hidden layers and 64 hidden units\n",
            "Epoch 1, Train Loss: 5.211668984456495, Test Loss: 1.609748899936676\n",
            "Epoch 2, Train Loss: 1.5609282417730852, Test Loss: 1.551754077275594\n",
            "Epoch 3, Train Loss: 1.4926316954872825, Test Loss: 1.5199906428654988\n",
            "Epoch 4, Train Loss: 1.4425663243640552, Test Loss: 1.4803263545036316\n",
            "Epoch 5, Train Loss: 1.4036273251880298, Test Loss: 1.454499880472819\n",
            "Training model with 1 hidden layers and 128 hidden units\n",
            "Epoch 1, Train Loss: 6.111560512672771, Test Loss: 1.962656577428182\n",
            "Epoch 2, Train Loss: 1.4715381210500544, Test Loss: 1.3709803620974224\n",
            "Epoch 3, Train Loss: 1.2657196738503196, Test Loss: 1.5749036073684692\n",
            "Epoch 4, Train Loss: 1.3145547942681746, Test Loss: 1.3627356886863708\n",
            "Epoch 5, Train Loss: 1.173366449095986, Test Loss: 1.3287517031033833\n",
            "Training model with 2 hidden layers and 32 hidden units\n",
            "Epoch 1, Train Loss: 2.033555941148238, Test Loss: 1.4962710738182068\n",
            "Epoch 2, Train Loss: 1.4264143651182002, Test Loss: 1.4335917631785076\n",
            "Epoch 3, Train Loss: 1.35340524261648, Test Loss: 1.373297433058421\n"
          ]
        },
        {
          "output_type": "error",
          "ename": "KeyboardInterrupt",
          "evalue": "",
          "traceback": [
            "\u001b[0;31m---------------------------------------------------------------------------\u001b[0m",
            "\u001b[0;31mKeyboardInterrupt\u001b[0m                         Traceback (most recent call last)",
            "\u001b[0;32m<ipython-input-17-390f6ef97e4f>\u001b[0m in \u001b[0;36m<cell line: 0>\u001b[0;34m()\u001b[0m\n\u001b[1;32m      4\u001b[0m     \u001b[0mprint\u001b[0m\u001b[0;34m(\u001b[0m\u001b[0;34mf\"Training model with {hidden_layers} hidden layers and {hidden_units} hidden units\"\u001b[0m\u001b[0;34m)\u001b[0m\u001b[0;34m\u001b[0m\u001b[0;34m\u001b[0m\u001b[0m\n\u001b[1;32m      5\u001b[0m     \u001b[0mdeep_model\u001b[0m \u001b[0;34m=\u001b[0m \u001b[0mDeepNetwork\u001b[0m\u001b[0;34m(\u001b[0m\u001b[0minput_size\u001b[0m \u001b[0;34m=\u001b[0m \u001b[0mX_train\u001b[0m\u001b[0;34m.\u001b[0m\u001b[0mshape\u001b[0m\u001b[0;34m[\u001b[0m\u001b[0;36m1\u001b[0m\u001b[0;34m]\u001b[0m \u001b[0;34m*\u001b[0m \u001b[0mX_train\u001b[0m\u001b[0;34m.\u001b[0m\u001b[0mshape\u001b[0m\u001b[0;34m[\u001b[0m\u001b[0;36m2\u001b[0m\u001b[0;34m]\u001b[0m\u001b[0;34m,\u001b[0m \u001b[0mhidden_layers\u001b[0m \u001b[0;34m=\u001b[0m \u001b[0mhidden_layers\u001b[0m\u001b[0;34m,\u001b[0m \u001b[0mhidden_units\u001b[0m \u001b[0;34m=\u001b[0m \u001b[0mhidden_units\u001b[0m\u001b[0;34m,\u001b[0m \u001b[0moutput_size\u001b[0m \u001b[0;34m=\u001b[0m \u001b[0my_train\u001b[0m\u001b[0;34m.\u001b[0m\u001b[0mshape\u001b[0m\u001b[0;34m[\u001b[0m\u001b[0;36m1\u001b[0m\u001b[0;34m]\u001b[0m\u001b[0;34m)\u001b[0m\u001b[0;34m.\u001b[0m\u001b[0mto\u001b[0m\u001b[0;34m(\u001b[0m\u001b[0mdevice\u001b[0m\u001b[0;34m)\u001b[0m\u001b[0;34m\u001b[0m\u001b[0;34m\u001b[0m\u001b[0m\n\u001b[0;32m----> 6\u001b[0;31m     \u001b[0mtrain_losses\u001b[0m\u001b[0;34m,\u001b[0m \u001b[0mtest_losses\u001b[0m \u001b[0;34m=\u001b[0m \u001b[0mtrain_deep_model\u001b[0m\u001b[0;34m(\u001b[0m\u001b[0mdeep_model\u001b[0m\u001b[0;34m,\u001b[0m \u001b[0mtrain_loader\u001b[0m\u001b[0;34m,\u001b[0m \u001b[0mtest_loader\u001b[0m\u001b[0;34m,\u001b[0m \u001b[0mepochs\u001b[0m \u001b[0;34m=\u001b[0m \u001b[0;36m5\u001b[0m\u001b[0;34m,\u001b[0m \u001b[0mlr\u001b[0m \u001b[0;34m=\u001b[0m \u001b[0;36m0.001\u001b[0m\u001b[0;34m)\u001b[0m\u001b[0;34m\u001b[0m\u001b[0;34m\u001b[0m\u001b[0m\n\u001b[0m\u001b[1;32m      7\u001b[0m \u001b[0;34m\u001b[0m\u001b[0m\n\u001b[1;32m      8\u001b[0m     \u001b[0mfinal_test\u001b[0m \u001b[0;34m=\u001b[0m \u001b[0mtest_losses\u001b[0m\u001b[0;34m[\u001b[0m\u001b[0;34m-\u001b[0m\u001b[0;36m1\u001b[0m\u001b[0;34m]\u001b[0m\u001b[0;34m\u001b[0m\u001b[0;34m\u001b[0m\u001b[0m\n",
            "\u001b[0;32m<ipython-input-11-38caaa6ab340>\u001b[0m in \u001b[0;36mtrain_deep_model\u001b[0;34m(model, train_loader, test_loader, epochs, lr)\u001b[0m\n\u001b[1;32m     15\u001b[0m       \u001b[0moutputs\u001b[0m \u001b[0;34m=\u001b[0m \u001b[0mmodel\u001b[0m\u001b[0;34m(\u001b[0m\u001b[0mbatch_x\u001b[0m\u001b[0;34m)\u001b[0m\u001b[0;34m\u001b[0m\u001b[0;34m\u001b[0m\u001b[0m\n\u001b[1;32m     16\u001b[0m       \u001b[0mloss\u001b[0m \u001b[0;34m=\u001b[0m \u001b[0mcriterion\u001b[0m\u001b[0;34m(\u001b[0m\u001b[0moutputs\u001b[0m\u001b[0;34m,\u001b[0m \u001b[0mbatch_y\u001b[0m\u001b[0;34m)\u001b[0m\u001b[0;34m\u001b[0m\u001b[0;34m\u001b[0m\u001b[0m\n\u001b[0;32m---> 17\u001b[0;31m       \u001b[0mloss\u001b[0m\u001b[0;34m.\u001b[0m\u001b[0mbackward\u001b[0m\u001b[0;34m(\u001b[0m\u001b[0;34m)\u001b[0m\u001b[0;34m\u001b[0m\u001b[0;34m\u001b[0m\u001b[0m\n\u001b[0m\u001b[1;32m     18\u001b[0m       \u001b[0moptimizer\u001b[0m\u001b[0;34m.\u001b[0m\u001b[0mstep\u001b[0m\u001b[0;34m(\u001b[0m\u001b[0;34m)\u001b[0m\u001b[0;34m\u001b[0m\u001b[0;34m\u001b[0m\u001b[0m\n\u001b[1;32m     19\u001b[0m       \u001b[0mtrain_loss\u001b[0m \u001b[0;34m+=\u001b[0m \u001b[0mloss\u001b[0m\u001b[0;34m.\u001b[0m\u001b[0mitem\u001b[0m\u001b[0;34m(\u001b[0m\u001b[0;34m)\u001b[0m\u001b[0;34m\u001b[0m\u001b[0;34m\u001b[0m\u001b[0m\n",
            "\u001b[0;32m/usr/local/lib/python3.11/dist-packages/torch/_tensor.py\u001b[0m in \u001b[0;36mbackward\u001b[0;34m(self, gradient, retain_graph, create_graph, inputs)\u001b[0m\n\u001b[1;32m    624\u001b[0m                 \u001b[0minputs\u001b[0m\u001b[0;34m=\u001b[0m\u001b[0minputs\u001b[0m\u001b[0;34m,\u001b[0m\u001b[0;34m\u001b[0m\u001b[0;34m\u001b[0m\u001b[0m\n\u001b[1;32m    625\u001b[0m             )\n\u001b[0;32m--> 626\u001b[0;31m         torch.autograd.backward(\n\u001b[0m\u001b[1;32m    627\u001b[0m             \u001b[0mself\u001b[0m\u001b[0;34m,\u001b[0m \u001b[0mgradient\u001b[0m\u001b[0;34m,\u001b[0m \u001b[0mretain_graph\u001b[0m\u001b[0;34m,\u001b[0m \u001b[0mcreate_graph\u001b[0m\u001b[0;34m,\u001b[0m \u001b[0minputs\u001b[0m\u001b[0;34m=\u001b[0m\u001b[0minputs\u001b[0m\u001b[0;34m\u001b[0m\u001b[0;34m\u001b[0m\u001b[0m\n\u001b[1;32m    628\u001b[0m         )\n",
            "\u001b[0;32m/usr/local/lib/python3.11/dist-packages/torch/autograd/__init__.py\u001b[0m in \u001b[0;36mbackward\u001b[0;34m(tensors, grad_tensors, retain_graph, create_graph, grad_variables, inputs)\u001b[0m\n\u001b[1;32m    345\u001b[0m     \u001b[0;31m# some Python versions print out the first line of a multi-line function\u001b[0m\u001b[0;34m\u001b[0m\u001b[0;34m\u001b[0m\u001b[0m\n\u001b[1;32m    346\u001b[0m     \u001b[0;31m# calls in the traceback and some print out the last line\u001b[0m\u001b[0;34m\u001b[0m\u001b[0;34m\u001b[0m\u001b[0m\n\u001b[0;32m--> 347\u001b[0;31m     _engine_run_backward(\n\u001b[0m\u001b[1;32m    348\u001b[0m         \u001b[0mtensors\u001b[0m\u001b[0;34m,\u001b[0m\u001b[0;34m\u001b[0m\u001b[0;34m\u001b[0m\u001b[0m\n\u001b[1;32m    349\u001b[0m         \u001b[0mgrad_tensors_\u001b[0m\u001b[0;34m,\u001b[0m\u001b[0;34m\u001b[0m\u001b[0;34m\u001b[0m\u001b[0m\n",
            "\u001b[0;32m/usr/local/lib/python3.11/dist-packages/torch/autograd/graph.py\u001b[0m in \u001b[0;36m_engine_run_backward\u001b[0;34m(t_outputs, *args, **kwargs)\u001b[0m\n\u001b[1;32m    821\u001b[0m         \u001b[0munregister_hooks\u001b[0m \u001b[0;34m=\u001b[0m \u001b[0m_register_logging_hooks_on_whole_graph\u001b[0m\u001b[0;34m(\u001b[0m\u001b[0mt_outputs\u001b[0m\u001b[0;34m)\u001b[0m\u001b[0;34m\u001b[0m\u001b[0;34m\u001b[0m\u001b[0m\n\u001b[1;32m    822\u001b[0m     \u001b[0;32mtry\u001b[0m\u001b[0;34m:\u001b[0m\u001b[0;34m\u001b[0m\u001b[0;34m\u001b[0m\u001b[0m\n\u001b[0;32m--> 823\u001b[0;31m         return Variable._execution_engine.run_backward(  # Calls into the C++ engine to run the backward pass\n\u001b[0m\u001b[1;32m    824\u001b[0m             \u001b[0mt_outputs\u001b[0m\u001b[0;34m,\u001b[0m \u001b[0;34m*\u001b[0m\u001b[0margs\u001b[0m\u001b[0;34m,\u001b[0m \u001b[0;34m**\u001b[0m\u001b[0mkwargs\u001b[0m\u001b[0;34m\u001b[0m\u001b[0;34m\u001b[0m\u001b[0m\n\u001b[1;32m    825\u001b[0m         )  # Calls into the C++ engine to run the backward pass\n",
            "\u001b[0;31mKeyboardInterrupt\u001b[0m: "
          ]
        }
      ]
    },
    {
      "cell_type": "code",
      "source": [
        "# printing results to find the simplest model\n",
        "best_loss = best_loss * 1.05\n",
        "\n",
        "# sort by the layers and units for the simplest model\n",
        "sort_results = sorted(results, key=lambda x: (x[0], x[1]))\n",
        "\n",
        "# finding the simplest model that is within the threshold\n",
        "for hidden_layers, hidden_units, test_loss in sort_results:\n",
        "  if test_loss <= best_loss:\n",
        "   simplest_config = (hidden_layers, hidden_units)\n",
        "   simplest_loss = test_loss\n",
        "   break\n",
        "\n",
        "# printing results\n",
        "print(f\"The simplest model has {simplest_config[0]} hidden layer(s) and {simplest_config[1]} hidden units\")"
      ],
      "metadata": {
        "id": "RtwfjROZ5N6K",
        "colab": {
          "base_uri": "https://localhost:8080/"
        },
        "outputId": "246d557c-c9c6-4980-a19c-e5c38af73dae"
      },
      "execution_count": null,
      "outputs": [
        {
          "output_type": "stream",
          "name": "stdout",
          "text": [
            "The simplest model has 1 hidden layer(s) and 128 hidden units\n"
          ]
        }
      ]
    },
    {
      "cell_type": "code",
      "source": [
        "# definining the function to evaluate the model\n",
        "def evaluate_model(model, test_loader):\n",
        "  model.eval()\n",
        "  y_true = []\n",
        "  y_pred = []\n",
        "\n",
        "  with torch.no_grad():\n",
        "    for batch_x, batch_y in test_loader:\n",
        "      batch_x, batch_y = batch_x.to(device), batch_y.to(device)\n",
        "      outputs = model(batch_x)\n",
        "      _, predicted = torch.max(outputs, 1)\n",
        "\n",
        "      y_true.extend(batch_y.argmax(dim=1).cpu().numpy())\n",
        "      y_pred.extend(predicted.cpu().numpy())\n",
        "\n",
        "    # commpting metrics\n",
        "    accuracy = accuracy_score(y_true, y_pred)\n",
        "    precision = precision_score(y_true, y_pred, average='weighted')\n",
        "    recall = recall_score(y_true, y_pred, average='weighted')\n",
        "    f1 = f1_score(y_true, y_pred, average='weighted')\n",
        "    conf_matrix = confusion_matrix(y_true, y_pred)\n",
        "\n",
        "    # printing results\n",
        "    print(f\"Accuracy: {accuracy:.4f}\")\n",
        "    print(f\"Precision: {precision:.4f}\")\n",
        "    print(f\"Recall: {recall:.4f}\")\n",
        "    print(f\"F1 Score: {f1:.4f}\")\n",
        "\n",
        "    return accuracy, precision, recall, f1, conf_matrix"
      ],
      "metadata": {
        "id": "vlhIlJ0KhP05"
      },
      "execution_count": null,
      "outputs": []
    },
    {
      "cell_type": "code",
      "source": [
        "# loading the best model\n",
        "best_model = DeepNetwork(input_size = X_train.shape[1] * X_train.shape[2], hidden_layers = best_config[0], hidden_units = best_config[1], output_size = y_train.shape[1]).to(device)"
      ],
      "metadata": {
        "id": "q1_Er_PAi53Q"
      },
      "execution_count": null,
      "outputs": []
    },
    {
      "cell_type": "code",
      "source": [
        "# retraining the best model\n",
        "train_losses, test_losses = train_deep_model(best_model, train_loader, test_loader, epochs = 5, lr = 0.001)\n",
        "\n",
        "# evaluate the best model\n",
        "evaluate_model(best_model, test_loader)"
      ],
      "metadata": {
        "id": "-VfShvXyjHZS",
        "colab": {
          "base_uri": "https://localhost:8080/"
        },
        "outputId": "cb0a098f-c470-4f18-8675-44204fc95d8c"
      },
      "execution_count": null,
      "outputs": [
        {
          "output_type": "stream",
          "name": "stdout",
          "text": [
            "Epoch 1, Train Loss: 6.535926585847681, Test Loss: 1.6141885320345561\n",
            "Epoch 2, Train Loss: 1.5961132753979077, Test Loss: 1.5005433758099873\n",
            "Epoch 3, Train Loss: 1.449593717401678, Test Loss: 1.4516608516375225\n",
            "Epoch 4, Train Loss: 1.3908334103497593, Test Loss: 1.436609109242757\n",
            "Epoch 5, Train Loss: 1.3889574733647434, Test Loss: 1.4583584864934285\n",
            "Accuracy: 0.3843\n",
            "Precision: 0.3857\n",
            "Recall: 0.3843\n",
            "F1 Score: 0.2967\n"
          ]
        },
        {
          "output_type": "stream",
          "name": "stderr",
          "text": [
            "/usr/local/lib/python3.11/dist-packages/sklearn/metrics/_classification.py:1565: UndefinedMetricWarning: Precision is ill-defined and being set to 0.0 in labels with no predicted samples. Use `zero_division` parameter to control this behavior.\n",
            "  _warn_prf(average, modifier, f\"{metric.capitalize()} is\", len(result))\n"
          ]
        },
        {
          "output_type": "execute_result",
          "data": {
            "text/plain": [
              "(0.384282624369142,\n",
              " 0.3857057841785609,\n",
              " 0.384282624369142,\n",
              " 0.29668598509552574,\n",
              " array([[361,   0,   0,   3, 115],\n",
              "        [153,   1,   0,   4,  77],\n",
              "        [ 99,   0,   0,   9,  50],\n",
              "        [150,   1,   0,  27,  50],\n",
              "        [139,   0,   0,   4, 144]]))"
            ]
          },
          "metadata": {},
          "execution_count": 21
        }
      ]
    },
    {
      "cell_type": "markdown",
      "source": [
        "# **B. Gradient Descent (GD)**"
      ],
      "metadata": {
        "id": "mkb-dhvnoMAh"
      }
    },
    {
      "cell_type": "code",
      "source": [
        "# using the full dataset as a single batch (gradinet descent)\n",
        "gd_loader = DataLoader(train_dataset, batch_size = len(train_dataset), shuffle = True)"
      ],
      "metadata": {
        "id": "h6Ui9e29nmaF"
      },
      "execution_count": null,
      "outputs": []
    },
    {
      "cell_type": "code",
      "source": [
        "# intializing the model\n",
        "gd_model = DeepNetwork(input_size = X_train.shape[1] * X_train.shape[2],\n",
        "                       hidden_layers = best_config[0],\n",
        "                       hidden_units = best_config[0],\n",
        "                       output_size = y_train.shape[1]).to(device)"
      ],
      "metadata": {
        "id": "Fl04ly6mirSz"
      },
      "execution_count": null,
      "outputs": []
    },
    {
      "cell_type": "code",
      "source": [
        "# loss function cross entropy for multi-class classification\n",
        "criterion = nn.CrossEntropyLoss()"
      ],
      "metadata": {
        "id": "DWUFbRCyqoEU"
      },
      "execution_count": null,
      "outputs": []
    },
    {
      "cell_type": "code",
      "source": [
        "# optimizer using vanilla gradinet descent (single full batch)\n",
        "optimizer = optim.SGD(gd_model.parameters(), lr = 0.001)"
      ],
      "metadata": {
        "id": "Yhictma-0h4u"
      },
      "execution_count": null,
      "outputs": []
    },
    {
      "cell_type": "code",
      "source": [
        "# training the model and timing it\n",
        "start_time = time.time()\n",
        "train_losses, test_losses = train_deep_model(gd_model, gd_loader, test_loader, epochs = 5, lr = 0.01)\n",
        "end_time = time.time()"
      ],
      "metadata": {
        "id": "fSHf3O1C0h2M"
      },
      "execution_count": null,
      "outputs": []
    },
    {
      "cell_type": "code",
      "source": [
        "# record and print training duration\n",
        "gd_time = end_time - start_time\n",
        "print(f\"Training time: {gd_time} seconds\")"
      ],
      "metadata": {
        "id": "h4B1V3j00hz9"
      },
      "execution_count": null,
      "outputs": []
    },
    {
      "cell_type": "code",
      "source": [
        "# evaluate model on test data\n",
        "gd_accuracy, _, _, _, _ = evaluate_model(gd_model, test_loader)"
      ],
      "metadata": {
        "id": "zWjOIri70hxi"
      },
      "execution_count": null,
      "outputs": []
    },
    {
      "cell_type": "code",
      "source": [
        "# plot test accuracies vs batch sizes\n",
        "\n",
        "plt.figure()\n",
        "plt.plot(batch_size, sgd_results, marker='o')\n",
        "plt.xlabel('Batch Size')\n",
        "plt.ylabel('Test Accuracy')\n",
        "plt.title('Test Accuracy vs Batch Size (GD)')\n",
        "plt.grid(True)\n",
        "plt.show()"
      ],
      "metadata": {
        "id": "nyjhVekOKEBH"
      },
      "execution_count": null,
      "outputs": []
    },
    {
      "cell_type": "markdown",
      "source": [
        "# **C. Stochastic Gradient Descent (SGD)**"
      ],
      "metadata": {
        "id": "W9d1YpYHnm_X"
      }
    },
    {
      "cell_type": "code",
      "source": [
        "# creating a list of batch sizes (full batch, 1/2, 1/4 and so on)\n",
        "batch_size = [len(train_dataset) // (2 ** i) for i in range(3)]\n",
        "sgd_results = []"
      ],
      "metadata": {
        "id": "kh2WbraHnsEt"
      },
      "execution_count": null,
      "outputs": []
    },
    {
      "cell_type": "code",
      "source": [
        "# looping over each batch size\n",
        "for bs in batch_size:\n",
        "  print(f\"Training model with batch size {bs}\")\n",
        "\n",
        "  # creating a DataLoader with the given batch size\n",
        "  sgd_loader = DataLoader(train_dataset, batch_size = bs, shuffle = True)\n",
        "\n",
        "  # intializing the model for each individual run\n",
        "  sgd_model = DeepNetwork(input_size = X_train.shape[1] * X_train.shape[2],\n",
        "                          hidden_layers = best_config[0],\n",
        "                          hidden_units = best_config[1],\n",
        "                          output_size = y_train.shape[1]).to(device)\n",
        "\n",
        "  # time it takes to train\n",
        "  start_time = time.time()\n",
        "  train_losses, test_losses = train_deep_model(sgd_model, sgd_loader, test_loader, epochs = 3, lr = 0.01)\n",
        "  end_time = time.time()\n",
        "\n",
        "  # evaluate the model and store the results\n",
        "  sgd_time = end_time - start_time\n",
        "  print(f\"Training time: {sgd_time} seconds\")\n",
        "  accuracy, _, _, _, _ = evaluate_model(sgd_model, test_loader)\n",
        "\n",
        "  sgd_results.append({'Batch_size': bs, 'Training Time': sgd_time, 'Accuracy': accuracy, 'loss': test_losses[-1]})\n"
      ],
      "metadata": {
        "id": "6zsXCWYR_w1p",
        "colab": {
          "base_uri": "https://localhost:8080/"
        },
        "outputId": "052cc938-3268-44b8-9360-dc5b242588f9"
      },
      "execution_count": null,
      "outputs": [
        {
          "output_type": "stream",
          "name": "stdout",
          "text": [
            "Training model with batch size 5548\n",
            "Epoch 1, Train Loss: 1.6439422369003296, Test Loss: 660.0360107421875\n",
            "Epoch 2, Train Loss: 662.5369262695312, Test Loss: 133.62443923950195\n",
            "Epoch 3, Train Loss: 134.09613037109375, Test Loss: 29.22572962443034\n",
            "Training time: 317.3909010887146 seconds\n",
            "Accuracy: 0.1204\n",
            "Precision: 0.2379\n",
            "Recall: 0.1204\n",
            "F1 Score: 0.0362\n",
            "Training model with batch size 2774\n"
          ]
        },
        {
          "output_type": "stream",
          "name": "stderr",
          "text": [
            "/usr/local/lib/python3.11/dist-packages/sklearn/metrics/_classification.py:1565: UndefinedMetricWarning: Precision is ill-defined and being set to 0.0 in labels with no predicted samples. Use `zero_division` parameter to control this behavior.\n",
            "  _warn_prf(average, modifier, f\"{metric.capitalize()} is\", len(result))\n"
          ]
        },
        {
          "output_type": "stream",
          "name": "stdout",
          "text": [
            "Epoch 1, Train Loss: 335.0934924483299, Test Loss: 207.15882873535156\n",
            "Epoch 2, Train Loss: 154.01274490356445, Test Loss: 31.046780904134113\n",
            "Epoch 3, Train Loss: 39.667582511901855, Test Loss: 45.42159334818522\n",
            "Training time: 321.1830315589905 seconds\n",
            "Accuracy: 0.3453\n",
            "Precision: 0.1193\n",
            "Recall: 0.3453\n",
            "F1 Score: 0.1773\n",
            "Training model with batch size 1387\n"
          ]
        },
        {
          "output_type": "stream",
          "name": "stderr",
          "text": [
            "/usr/local/lib/python3.11/dist-packages/sklearn/metrics/_classification.py:1565: UndefinedMetricWarning: Precision is ill-defined and being set to 0.0 in labels with no predicted samples. Use `zero_division` parameter to control this behavior.\n",
            "  _warn_prf(average, modifier, f\"{metric.capitalize()} is\", len(result))\n"
          ]
        },
        {
          "output_type": "stream",
          "name": "stdout",
          "text": [
            "Epoch 1, Train Loss: 334.2948656976223, Test Loss: 66.10553232828777\n",
            "Epoch 2, Train Loss: 49.34764862060547, Test Loss: 24.23406155904134\n",
            "Epoch 3, Train Loss: 9.63357987999916, Test Loss: 1.6959721247355144\n",
            "Training time: 327.67606949806213 seconds\n",
            "Accuracy: 0.2300\n",
            "Precision: 0.4865\n",
            "Recall: 0.2300\n",
            "F1 Score: 0.1292\n"
          ]
        },
        {
          "output_type": "stream",
          "name": "stderr",
          "text": [
            "/usr/local/lib/python3.11/dist-packages/sklearn/metrics/_classification.py:1565: UndefinedMetricWarning: Precision is ill-defined and being set to 0.0 in labels with no predicted samples. Use `zero_division` parameter to control this behavior.\n",
            "  _warn_prf(average, modifier, f\"{metric.capitalize()} is\", len(result))\n"
          ]
        }
      ]
    },
    {
      "cell_type": "code",
      "source": [
        "# plot test accuracies vs batch sizes\n",
        "\n",
        "plt.figure()\n",
        "plt.plot(batch_size, [i['Accuracy'] for i in sgd_results], marker='o')\n",
        "plt.xlabel('Batch Size')\n",
        "plt.ylabel('Test Accuracy')\n",
        "plt.title('Test Accuracy vs Batch Size (SGD)')\n",
        "plt.grid(True)\n",
        "plt.show()"
      ],
      "metadata": {
        "colab": {
          "base_uri": "https://localhost:8080/",
          "height": 472
        },
        "id": "uFshcuw0J9N3",
        "outputId": "244448ed-0608-47de-87ce-c6b8e7e60450"
      },
      "execution_count": null,
      "outputs": [
        {
          "output_type": "display_data",
          "data": {
            "text/plain": [
              "<Figure size 640x480 with 1 Axes>"
            ],
            "image/png": "[encoded data removed]"
          },
          "metadata": {}
        }
      ]
    },
    {
      "cell_type": "markdown",
      "source": [
        "# **D. SGD with Momentum**"
      ],
      "metadata": {
        "id": "oVn2HTlJnsmu"
      }
    },
    {
      "cell_type": "code",
      "source": [
        "# various portions of this code block were filled in with autofill AI\n",
        "\n",
        "batch_sizes = [len(train_dataset) // (2 ** i) for i in range(3)]\n",
        "momentum_results = []"
      ],
      "metadata": {
        "id": "iXiKQI0_nvU0"
      },
      "execution_count": null,
      "outputs": []
    },
    {
      "cell_type": "code",
      "source": [
        "# various portions of this code block were filled in with autofill AI\n",
        "\n",
        "# looping over batch sizes\n",
        "for batch_size in batch_sizes:\n",
        "  gd_loader = DataLoader(train_dataset, batch_size = batch_size, shuffle = True)\n",
        "\n",
        "  gd_model = DeepNetwork(\n",
        "      input_size = X_train.shape[1] * X_train.shape[2],\n",
        "      hidden_layers = best_config[0],\n",
        "      hidden_units = best_config[1],\n",
        "      output_size = y_train.shape[1]\n",
        "  ).to(device)\n",
        "\n",
        "  # define loss and SGD with momentum optim\n",
        "  criterion = nn.CrossEntropyLoss()\n",
        "  optimizer = optim.SGD(gd_model.parameters(), lr = 0.01, momentum = 0.9)\n",
        "\n",
        "  # train\n",
        "  start_time = time.time()\n",
        "  train_losses, test_losses = train_deep_model(gd_model, gd_loader, test_loader, epochs = 3, lr = 0.01)\n",
        "  end_time = time.time()\n",
        "  print(f\"Batch Size: {batch_size}. Training time: {end_time - start_time:.2f} sec\")\n",
        "\n",
        "  # evaluate and keep test accuracies\n",
        "  gd_accuracy, _, _, _, _ = evaluate_model(gd_model, test_loader)\n",
        "  momentum_results.append(gd_accuracy)"
      ],
      "metadata": {
        "colab": {
          "base_uri": "https://localhost:8080/"
        },
        "id": "JjcxmazQGjaB",
        "outputId": "cc1343cb-8305-47bc-b434-20e91865b892"
      },
      "execution_count": null,
      "outputs": [
        {
          "metadata": {
            "tags": null
          },
          "name": "stdout",
          "output_type": "stream",
          "text": [
            "Epoch 1, Train Loss: 1.6156363487243652, Test Loss: 185.00637817382812\n",
            "Epoch 2, Train Loss: 184.79823303222656, Test Loss: 45.3327833811442\n",
            "Epoch 3, Train Loss: 45.04075622558594, Test Loss: 30.056878089904785\n",
            "Batch Size: 5548. Training time: 58.27 sec\n",
            "Accuracy: 0.2069\n",
            "Precision: 0.0428\n",
            "Recall: 0.2069\n",
            "F1 Score: 0.0710\n"
          ]
        },
        {
          "metadata": {
            "tags": null
          },
          "name": "stderr",
          "output_type": "stream",
          "text": [
            "/usr/local/lib/python3.11/dist-packages/sklearn/metrics/_classification.py:1565: UndefinedMetricWarning: Precision is ill-defined and being set to 0.0 in labels with no predicted samples. Use `zero_division` parameter to control this behavior.\n",
            "  _warn_prf(average, modifier, f\"{metric.capitalize()} is\", len(result))\n"
          ]
        },
        {
          "metadata": {
            "tags": null
          },
          "name": "stdout",
          "output_type": "stream",
          "text": [
            "Epoch 1, Train Loss: 56.466901242733, Test Loss: 23.812867800394695\n",
            "Epoch 2, Train Loss: 16.866329669952393, Test Loss: 15.450675328572592\n",
            "Epoch 3, Train Loss: 12.622387409210205, Test Loss: 3.551694313685099\n",
            "Batch Size: 2774. Training time: 60.97 sec\n",
            "Accuracy: 0.3453\n",
            "Precision: 0.1193\n",
            "Recall: 0.3453\n",
            "F1 Score: 0.1773\n"
          ]
        },
        {
          "metadata": {
            "tags": null
          },
          "name": "stderr",
          "output_type": "stream",
          "text": [
            "/usr/local/lib/python3.11/dist-packages/sklearn/metrics/_classification.py:1565: UndefinedMetricWarning: Precision is ill-defined and being set to 0.0 in labels with no predicted samples. Use `zero_division` parameter to control this behavior.\n",
            "  _warn_prf(average, modifier, f\"{metric.capitalize()} is\", len(result))\n"
          ]
        },
        {
          "output_type": "stream",
          "name": "stdout",
          "text": [
            "Epoch 1, Train Loss: 40.81751376390457, Test Loss: 10.456514040629068\n",
            "Epoch 2, Train Loss: 5.364628553390503, Test Loss: 1.6431031425793965\n",
            "Epoch 3, Train Loss: 1.5992931425571442, Test Loss: 1.5364420016606648\n",
            "Batch Size: 1387. Training time: 66.68 sec\n",
            "Accuracy: 0.3064\n",
            "Precision: 0.2937\n",
            "Recall: 0.3064\n",
            "F1 Score: 0.2591\n"
          ]
        },
        {
          "output_type": "stream",
          "name": "stderr",
          "text": [
            "/usr/local/lib/python3.11/dist-packages/sklearn/metrics/_classification.py:1565: UndefinedMetricWarning: Precision is ill-defined and being set to 0.0 in labels with no predicted samples. Use `zero_division` parameter to control this behavior.\n",
            "  _warn_prf(average, modifier, f\"{metric.capitalize()} is\", len(result))\n"
          ]
        }
      ]
    },
    {
      "cell_type": "code",
      "source": [
        "# plot test accuracies vs batch sizes\n",
        "\n",
        "plt.figure()\n",
        "plt.plot(batch_sizes, momentum_results, marker='o')\n",
        "plt.xlabel('Batch Size')\n",
        "plt.ylabel('Test Accuracy')\n",
        "plt.title('Test Accuracy vs Batch Size (SGD with momentum)')\n",
        "plt.grid(True)\n",
        "plt.show()"
      ],
      "metadata": {
        "colab": {
          "base_uri": "https://localhost:8080/",
          "height": 472
        },
        "id": "PvUJozeOJDoD",
        "outputId": "0218d8ef-62e5-4d61-d0f6-3fbf9403f316"
      },
      "execution_count": null,
      "outputs": [
        {
          "output_type": "display_data",
          "data": {
            "text/plain": [
              "<Figure size 640x480 with 1 Axes>"
            ],
            "image/png": "[encoded data removed]"
          },
          "metadata": {}
        }
      ]
    },
    {
      "cell_type": "markdown",
      "source": [],
      "metadata": {
        "id": "3FaGx1LWWVpI"
      }
    }
  ]
}