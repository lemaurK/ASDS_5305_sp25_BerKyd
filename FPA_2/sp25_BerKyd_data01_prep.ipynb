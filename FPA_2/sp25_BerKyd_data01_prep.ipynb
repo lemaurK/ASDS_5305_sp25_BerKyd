{
  "nbformat": 4,
  "nbformat_minor": 0,
  "metadata": {
    "colab": {
      "provenance": []
    },
    "kernelspec": {
      "name": "python3",
      "display_name": "Python 3"
    },
    "language_info": {
      "name": "python"
    }
  },
  "cells": [
    {
      "cell_type": "markdown",
      "source": [
        "<h1><center>ASDS 5303 Final Project Assignment #2 Dataset 1: Drug SMILES Strings and Classifications Data Preperation </center></h1>"
      ],
      "metadata": {
        "id": "DoJaDnr9tHHU"
      }
    },
    {
      "cell_type": "markdown",
      "source": [
        "## Group Members:\n",
        "### Henry Berrios #1001392315\n",
        "### LeMaur Kydd #1001767382"
      ],
      "metadata": {
        "id": "Jr0o4xe9tSaP"
      }
    },
    {
      "cell_type": "markdown",
      "source": [
        "# **A. Introduction & Dataset Overview**\n",
        "\n",
        "## <ins>Dataset Description:</ins>\n",
        "The SMILES Strings and Drug Classification dataset sourced from a [paper](https://doi.org/10.1021/acs.jcim.9b00236) is a compilation of a few different datasets, namely [PubChem](https://pubchem.ncbi.nlm.nih.gov/) and [ZINC](https://zinc.docking.org/). It contains SMILES Strings, which will function as the basis of our training data and drug classifications, which will be our target variable. There are 6 other chemical features that can help classification performance if necessary.\n",
        "\n",
        "The features in dataset 1 are as follows:\n",
        "- IsomericSMILES Strings\n",
        "- De-salted SMILES Strings\n",
        "- Drug Classification (Target)\n",
        "- XLogP\n",
        "- Molecular Weight\n",
        "- CID (PubChem Molecular ID#)\n",
        "- HBondAcceptorCount\n",
        "- HBondDonorCount\n",
        "\n",
        "## <ins>Defining the ML Problem</ins>\n",
        "- Supervised Learning Task: Classification\n",
        "- Goal: Predict the Drug Classification of a given SMILES String using only the SMILES String data.\n",
        "- Potential Use: Molecular structures can have their medicinal value estimated without costly lab research based on its SMILES String.\n",
        "- Target variable: Drug Classification (categorical variable)"
      ],
      "metadata": {
        "id": "a3twCEuDtYzn"
      }
    },
    {
      "cell_type": "markdown",
      "source": [
        "# **B. Data Loading & Cleaning**\n",
        "\n",
        "For this section, we will be pulling code from the 1st assignment, as well as improving some sections that needed changes after review."
      ],
      "metadata": {
        "id": "5niN8ZYC0PmX"
      }
    },
    {
      "cell_type": "markdown",
      "source": [
        "### Importing Libraries"
      ],
      "metadata": {
        "id": "2_URBhsR0bvt"
      }
    },
    {
      "cell_type": "code",
      "execution_count": 31,
      "metadata": {
        "id": "i_DWrYRIb8VN"
      },
      "outputs": [],
      "source": [
        "# Import Libraries (same as 1st assignment)\n",
        "import pandas as pd\n",
        "import numpy as np\n",
        "from scipy.io import wavfile\n",
        "\n",
        "import torch\n",
        "import torch.nn as nn\n",
        "import tensorflow as tf\n",
        "from tensorflow.keras.preprocessing.text import Tokenizer\n",
        "from tensorflow.keras.preprocessing.sequence import pad_sequences\n",
        "\n",
        "import matplotlib.pyplot as plt\n",
        "from sklearn.preprocessing import StandardScaler\n",
        "from sklearn.preprocessing import LabelEncoder\n",
        "from sklearn.model_selection import train_test_split\n",
        "import torch.nn.functional as F\n",
        "\n",
        "from google.colab import drive"
      ]
    },
    {
      "cell_type": "markdown",
      "source": [
        "### Load Dataset 1 (from 1st assignment)"
      ],
      "metadata": {
        "id": "sQ4qTuqF1EWX"
      }
    },
    {
      "cell_type": "code",
      "source": [
        "drugs = pd.read_excel('/content/drug_smiles_categories.xlsx') # Read the dataset containing the Drug SMILES Strings and their Drug Categories into a pandas dataframe."
      ],
      "metadata": {
        "id": "OBNfcKX61FWx"
      },
      "execution_count": 20,
      "outputs": []
    },
    {
      "cell_type": "markdown",
      "source": [
        "## Preprocessing Dataset 1\n",
        "\n",
        "Note: This dataset requires very minimal preprocessing as the data was sourced from reputable sources such as PubChem. The only necessary preprocessing step is encoding."
      ],
      "metadata": {
        "id": "96gRlKLC5Z3Q"
      }
    },
    {
      "cell_type": "code",
      "source": [
        "# We are going to subset the original dataset to only capture the SMILES Strings and their labels\n",
        "drugs_subset = drugs[['IsomericSMILES', 'drug_class']]\n",
        "drugs_subset.head()"
      ],
      "metadata": {
        "colab": {
          "base_uri": "https://localhost:8080/",
          "height": 206
        },
        "id": "aPWkSxyt7g48",
        "outputId": "44a314c6-feba-4cda-cadd-7c95a76e4b5a"
      },
      "execution_count": 21,
      "outputs": [
        {
          "output_type": "execute_result",
          "data": {
            "text/plain": [
              "                                      IsomericSMILES      drug_class\n",
              "0                         CN(C)CCCCCCN(C)C.C(CBr)CBr     hematologic\n",
              "1  C1CN=C(N1)NC2=C(C3=NC=CN=C3C=C2)Br.[C@@H](C(C(...          cardio\n",
              "2                     C1CSC2=NC(CN21)C3=CC=C(C=C3)Br   antiinfective\n",
              "3                 C1C2CC3CC1CC(C2)C3NC4=CC=C(C=C4)Br             cns\n",
              "4                                     CC(CCC(C#C)N)N  antineoplastic"
            ],
            "text/html": [
              "\n",
              "  <div id=\"df-33b7204e-7942-4856-b8bf-e0b76807accc\" class=\"colab-df-container\">\n",
              "    <div>\n",
              "<style scoped>\n",
              "    .dataframe tbody tr th:only-of-type {\n",
              "        vertical-align: middle;\n",
              "    }\n",
              "\n",
              "    .dataframe tbody tr th {\n",
              "        vertical-align: top;\n",
              "    }\n",
              "\n",
              "    .dataframe thead th {\n",
              "        text-align: right;\n",
              "    }\n",
              "</style>\n",
              "<table border=\"1\" class=\"dataframe\">\n",
              "  <thead>\n",
              "    <tr style=\"text-align: right;\">\n",
              "      <th></th>\n",
              "      <th>IsomericSMILES</th>\n",
              "      <th>drug_class</th>\n",
              "    </tr>\n",
              "  </thead>\n",
              "  <tbody>\n",
              "    <tr>\n",
              "      <th>0</th>\n",
              "      <td>CN(C)CCCCCCN(C)C.C(CBr)CBr</td>\n",
              "      <td>hematologic</td>\n",
              "    </tr>\n",
              "    <tr>\n",
              "      <th>1</th>\n",
              "      <td>C1CN=C(N1)NC2=C(C3=NC=CN=C3C=C2)Br.[C@@H](C(C(...</td>\n",
              "      <td>cardio</td>\n",
              "    </tr>\n",
              "    <tr>\n",
              "      <th>2</th>\n",
              "      <td>C1CSC2=NC(CN21)C3=CC=C(C=C3)Br</td>\n",
              "      <td>antiinfective</td>\n",
              "    </tr>\n",
              "    <tr>\n",
              "      <th>3</th>\n",
              "      <td>C1C2CC3CC1CC(C2)C3NC4=CC=C(C=C4)Br</td>\n",
              "      <td>cns</td>\n",
              "    </tr>\n",
              "    <tr>\n",
              "      <th>4</th>\n",
              "      <td>CC(CCC(C#C)N)N</td>\n",
              "      <td>antineoplastic</td>\n",
              "    </tr>\n",
              "  </tbody>\n",
              "</table>\n",
              "</div>\n",
              "    <div class=\"colab-df-buttons\">\n",
              "\n",
              "  <div class=\"colab-df-container\">\n",
              "    <button class=\"colab-df-convert\" onclick=\"convertToInteractive('df-33b7204e-7942-4856-b8bf-e0b76807accc')\"\n",
              "            title=\"Convert this dataframe to an interactive table.\"\n",
              "            style=\"display:none;\">\n",
              "\n",
              "  <svg xmlns=\"http://www.w3.org/2000/svg\" height=\"24px\" viewBox=\"0 -960 960 960\">\n",
              "    <path d=\"M120-120v-720h720v720H120Zm60-500h600v-160H180v160Zm220 220h160v-160H400v160Zm0 220h160v-160H400v160ZM180-400h160v-160H180v160Zm440 0h160v-160H620v160ZM180-180h160v-160H180v160Zm440 0h160v-160H620v160Z\"/>\n",
              "  </svg>\n",
              "    </button>\n",
              "\n",
              "  <style>\n",
              "    .colab-df-container {\n",
              "      display:flex;\n",
              "      gap: 12px;\n",
              "    }\n",
              "\n",
              "    .colab-df-convert {\n",
              "      background-color: #E8F0FE;\n",
              "      border: none;\n",
              "      border-radius: 50%;\n",
              "      cursor: pointer;\n",
              "      display: none;\n",
              "      fill: #1967D2;\n",
              "      height: 32px;\n",
              "      padding: 0 0 0 0;\n",
              "      width: 32px;\n",
              "    }\n",
              "\n",
              "    .colab-df-convert:hover {\n",
              "      background-color: #E2EBFA;\n",
              "      box-shadow: 0px 1px 2px rgba(60, 64, 67, 0.3), 0px 1px 3px 1px rgba(60, 64, 67, 0.15);\n",
              "      fill: #174EA6;\n",
              "    }\n",
              "\n",
              "    .colab-df-buttons div {\n",
              "      margin-bottom: 4px;\n",
              "    }\n",
              "\n",
              "    [theme=dark] .colab-df-convert {\n",
              "      background-color: #3B4455;\n",
              "      fill: #D2E3FC;\n",
              "    }\n",
              "\n",
              "    [theme=dark] .colab-df-convert:hover {\n",
              "      background-color: #434B5C;\n",
              "      box-shadow: 0px 1px 3px 1px rgba(0, 0, 0, 0.15);\n",
              "      filter: drop-shadow(0px 1px 2px rgba(0, 0, 0, 0.3));\n",
              "      fill: #FFFFFF;\n",
              "    }\n",
              "  </style>\n",
              "\n",
              "    <script>\n",
              "      const buttonEl =\n",
              "        document.querySelector('#df-33b7204e-7942-4856-b8bf-e0b76807accc button.colab-df-convert');\n",
              "      buttonEl.style.display =\n",
              "        google.colab.kernel.accessAllowed ? 'block' : 'none';\n",
              "\n",
              "      async function convertToInteractive(key) {\n",
              "        const element = document.querySelector('#df-33b7204e-7942-4856-b8bf-e0b76807accc');\n",
              "        const dataTable =\n",
              "          await google.colab.kernel.invokeFunction('convertToInteractive',\n",
              "                                                    [key], {});\n",
              "        if (!dataTable) return;\n",
              "\n",
              "        const docLinkHtml = 'Like what you see? Visit the ' +\n",
              "          '<a target=\"_blank\" href=https://colab.research.google.com/notebooks/data_table.ipynb>data table notebook</a>'\n",
              "          + ' to learn more about interactive tables.';\n",
              "        element.innerHTML = '';\n",
              "        dataTable['output_type'] = 'display_data';\n",
              "        await google.colab.output.renderOutput(dataTable, element);\n",
              "        const docLink = document.createElement('div');\n",
              "        docLink.innerHTML = docLinkHtml;\n",
              "        element.appendChild(docLink);\n",
              "      }\n",
              "    </script>\n",
              "  </div>\n",
              "\n",
              "\n",
              "<div id=\"df-ee113b0f-0471-48c6-a0dc-fe4c63ae67a2\">\n",
              "  <button class=\"colab-df-quickchart\" onclick=\"quickchart('df-ee113b0f-0471-48c6-a0dc-fe4c63ae67a2')\"\n",
              "            title=\"Suggest charts\"\n",
              "            style=\"display:none;\">\n",
              "\n",
              "<svg xmlns=\"http://www.w3.org/2000/svg\" height=\"24px\"viewBox=\"0 0 24 24\"\n",
              "     width=\"24px\">\n",
              "    <g>\n",
              "        <path d=\"M19 3H5c-1.1 0-2 .9-2 2v14c0 1.1.9 2 2 2h14c1.1 0 2-.9 2-2V5c0-1.1-.9-2-2-2zM9 17H7v-7h2v7zm4 0h-2V7h2v10zm4 0h-2v-4h2v4z\"/>\n",
              "    </g>\n",
              "</svg>\n",
              "  </button>\n",
              "\n",
              "<style>\n",
              "  .colab-df-quickchart {\n",
              "      --bg-color: #E8F0FE;\n",
              "      --fill-color: #1967D2;\n",
              "      --hover-bg-color: #E2EBFA;\n",
              "      --hover-fill-color: #174EA6;\n",
              "      --disabled-fill-color: #AAA;\n",
              "      --disabled-bg-color: #DDD;\n",
              "  }\n",
              "\n",
              "  [theme=dark] .colab-df-quickchart {\n",
              "      --bg-color: #3B4455;\n",
              "      --fill-color: #D2E3FC;\n",
              "      --hover-bg-color: #434B5C;\n",
              "      --hover-fill-color: #FFFFFF;\n",
              "      --disabled-bg-color: #3B4455;\n",
              "      --disabled-fill-color: #666;\n",
              "  }\n",
              "\n",
              "  .colab-df-quickchart {\n",
              "    background-color: var(--bg-color);\n",
              "    border: none;\n",
              "    border-radius: 50%;\n",
              "    cursor: pointer;\n",
              "    display: none;\n",
              "    fill: var(--fill-color);\n",
              "    height: 32px;\n",
              "    padding: 0;\n",
              "    width: 32px;\n",
              "  }\n",
              "\n",
              "  .colab-df-quickchart:hover {\n",
              "    background-color: var(--hover-bg-color);\n",
              "    box-shadow: 0 1px 2px rgba(60, 64, 67, 0.3), 0 1px 3px 1px rgba(60, 64, 67, 0.15);\n",
              "    fill: var(--button-hover-fill-color);\n",
              "  }\n",
              "\n",
              "  .colab-df-quickchart-complete:disabled,\n",
              "  .colab-df-quickchart-complete:disabled:hover {\n",
              "    background-color: var(--disabled-bg-color);\n",
              "    fill: var(--disabled-fill-color);\n",
              "    box-shadow: none;\n",
              "  }\n",
              "\n",
              "  .colab-df-spinner {\n",
              "    border: 2px solid var(--fill-color);\n",
              "    border-color: transparent;\n",
              "    border-bottom-color: var(--fill-color);\n",
              "    animation:\n",
              "      spin 1s steps(1) infinite;\n",
              "  }\n",
              "\n",
              "  @keyframes spin {\n",
              "    0% {\n",
              "      border-color: transparent;\n",
              "      border-bottom-color: var(--fill-color);\n",
              "      border-left-color: var(--fill-color);\n",
              "    }\n",
              "    20% {\n",
              "      border-color: transparent;\n",
              "      border-left-color: var(--fill-color);\n",
              "      border-top-color: var(--fill-color);\n",
              "    }\n",
              "    30% {\n",
              "      border-color: transparent;\n",
              "      border-left-color: var(--fill-color);\n",
              "      border-top-color: var(--fill-color);\n",
              "      border-right-color: var(--fill-color);\n",
              "    }\n",
              "    40% {\n",
              "      border-color: transparent;\n",
              "      border-right-color: var(--fill-color);\n",
              "      border-top-color: var(--fill-color);\n",
              "    }\n",
              "    60% {\n",
              "      border-color: transparent;\n",
              "      border-right-color: var(--fill-color);\n",
              "    }\n",
              "    80% {\n",
              "      border-color: transparent;\n",
              "      border-right-color: var(--fill-color);\n",
              "      border-bottom-color: var(--fill-color);\n",
              "    }\n",
              "    90% {\n",
              "      border-color: transparent;\n",
              "      border-bottom-color: var(--fill-color);\n",
              "    }\n",
              "  }\n",
              "</style>\n",
              "\n",
              "  <script>\n",
              "    async function quickchart(key) {\n",
              "      const quickchartButtonEl =\n",
              "        document.querySelector('#' + key + ' button');\n",
              "      quickchartButtonEl.disabled = true;  // To prevent multiple clicks.\n",
              "      quickchartButtonEl.classList.add('colab-df-spinner');\n",
              "      try {\n",
              "        const charts = await google.colab.kernel.invokeFunction(\n",
              "            'suggestCharts', [key], {});\n",
              "      } catch (error) {\n",
              "        console.error('Error during call to suggestCharts:', error);\n",
              "      }\n",
              "      quickchartButtonEl.classList.remove('colab-df-spinner');\n",
              "      quickchartButtonEl.classList.add('colab-df-quickchart-complete');\n",
              "    }\n",
              "    (() => {\n",
              "      let quickchartButtonEl =\n",
              "        document.querySelector('#df-ee113b0f-0471-48c6-a0dc-fe4c63ae67a2 button');\n",
              "      quickchartButtonEl.style.display =\n",
              "        google.colab.kernel.accessAllowed ? 'block' : 'none';\n",
              "    })();\n",
              "  </script>\n",
              "</div>\n",
              "\n",
              "    </div>\n",
              "  </div>\n"
            ],
            "application/vnd.google.colaboratory.intrinsic+json": {
              "type": "dataframe",
              "variable_name": "drugs_subset",
              "summary": "{\n  \"name\": \"drugs_subset\",\n  \"rows\": 6935,\n  \"fields\": [\n    {\n      \"column\": \"IsomericSMILES\",\n      \"properties\": {\n        \"dtype\": \"string\",\n        \"num_unique_values\": 6928,\n        \"samples\": [\n          \"C[N+]1(CC2=C(C1)C(=C(C(=C2Cl)Cl)Cl)Cl)CC[N+](C)(C)C\",\n          \"C1N(CCN(C1)C(=O)C(C2=CC=CC=C2)C3=CC=CC=C3)CC(O)COC4=CC=CC5=C4C=CC=N5.C1N(CCN(C1)C(=O)C(C2=CC=CC=C2)C3=CC=CC=C3)CC(O)COC4=CC=CC5=C4C=CC=N5.C(=C/C(=O)O)\\\\C(=O)O.C(=C/C(=O)O)\\\\C(=O)O.C(=C/C(=O)O)\\\\C(=O)O\",\n          \"C1=NC2=C(C(=N1)N)N=CN2[C@H]3[C@@H]([C@@H]([C@H](O3)COP(=O)(CP(=O)(O)OP(=O)(O)O)O)O)O\"\n        ],\n        \"semantic_type\": \"\",\n        \"description\": \"\"\n      }\n    },\n    {\n      \"column\": \"drug_class\",\n      \"properties\": {\n        \"dtype\": \"category\",\n        \"num_unique_values\": 12,\n        \"samples\": [\n          \"lipidregulating\",\n          \"gastrointestinal\",\n          \"hematologic\"\n        ],\n        \"semantic_type\": \"\",\n        \"description\": \"\"\n      }\n    }\n  ]\n}"
            }
          },
          "metadata": {},
          "execution_count": 21
        }
      ]
    },
    {
      "cell_type": "markdown",
      "source": [
        "### Condensing Target Variable\n",
        "\n",
        "Initially we had 6935 data points spread across 12 drug classifications, which would create a data imbalance. So to remedy this issue, in this step I will be condensing the 8 smallest categories into one called \"other\"."
      ],
      "metadata": {
        "id": "3tIVqI6-774x"
      }
    },
    {
      "cell_type": "code",
      "source": [
        "# various parts of this code block were autofilled in with AI tools\n",
        "\n",
        "value_counts = drugs_subset['drug_class'].value_counts() # Collecting the counts of the unique values of the target variable\n",
        "smallest_categories = value_counts.nsmallest(8).index # Subset the 8 smallest categories\n",
        "drugs_subset['drug_class'] = drugs_subset['drug_class'].replace(smallest_categories, 'other') # Make the replacement\n",
        "drugs_subset['drug_class'].value_counts() # Check the value counts again"
      ],
      "metadata": {
        "colab": {
          "base_uri": "https://localhost:8080/",
          "height": 379
        },
        "id": "4Vt46lNl9Nig",
        "outputId": "b164a735-4c8a-4b25-cf18-dfd91f98d55c"
      },
      "execution_count": 22,
      "outputs": [
        {
          "output_type": "stream",
          "name": "stderr",
          "text": [
            "<ipython-input-22-e91608cba5a0>:5: SettingWithCopyWarning: \n",
            "A value is trying to be set on a copy of a slice from a DataFrame.\n",
            "Try using .loc[row_indexer,col_indexer] = value instead\n",
            "\n",
            "See the caveats in the documentation: https://pandas.pydata.org/pandas-docs/stable/user_guide/indexing.html#returning-a-view-versus-a-copy\n",
            "  drugs_subset['drug_class'] = drugs_subset['drug_class'].replace(smallest_categories, 'other') # Make the replacement\n"
          ]
        },
        {
          "output_type": "execute_result",
          "data": {
            "text/plain": [
              "drug_class\n",
              "antiinfective     2396\n",
              "other             1437\n",
              "antineoplastic    1174\n",
              "cns               1141\n",
              "cardio             787\n",
              "Name: count, dtype: int64"
            ],
            "text/html": [
              "<div>\n",
              "<style scoped>\n",
              "    .dataframe tbody tr th:only-of-type {\n",
              "        vertical-align: middle;\n",
              "    }\n",
              "\n",
              "    .dataframe tbody tr th {\n",
              "        vertical-align: top;\n",
              "    }\n",
              "\n",
              "    .dataframe thead th {\n",
              "        text-align: right;\n",
              "    }\n",
              "</style>\n",
              "<table border=\"1\" class=\"dataframe\">\n",
              "  <thead>\n",
              "    <tr style=\"text-align: right;\">\n",
              "      <th></th>\n",
              "      <th>count</th>\n",
              "    </tr>\n",
              "    <tr>\n",
              "      <th>drug_class</th>\n",
              "      <th></th>\n",
              "    </tr>\n",
              "  </thead>\n",
              "  <tbody>\n",
              "    <tr>\n",
              "      <th>antiinfective</th>\n",
              "      <td>2396</td>\n",
              "    </tr>\n",
              "    <tr>\n",
              "      <th>other</th>\n",
              "      <td>1437</td>\n",
              "    </tr>\n",
              "    <tr>\n",
              "      <th>antineoplastic</th>\n",
              "      <td>1174</td>\n",
              "    </tr>\n",
              "    <tr>\n",
              "      <th>cns</th>\n",
              "      <td>1141</td>\n",
              "    </tr>\n",
              "    <tr>\n",
              "      <th>cardio</th>\n",
              "      <td>787</td>\n",
              "    </tr>\n",
              "  </tbody>\n",
              "</table>\n",
              "</div><br><label><b>dtype:</b> int64</label>"
            ]
          },
          "metadata": {},
          "execution_count": 22
        }
      ]
    },
    {
      "cell_type": "markdown",
      "source": [
        "# **C. Convert Dataset into Tensor Format**"
      ],
      "metadata": {
        "id": "5uFgLvxkBt4P"
      }
    },
    {
      "cell_type": "code",
      "source": [
        "# various parts of this code block were autofilled in with AI tools\n",
        "\n",
        "train_df, test_df = train_test_split(drugs_subset, test_size=0.2, random_state=42, stratify=drugs_subset['drug_class']) # Split the data into training and testing sets\n",
        "\n",
        "# Tokenize SMILES Strungs\n",
        "tokenizer = Tokenizer(char_level=True, filters=\"\") # Initialize the tokenizer\n",
        "tokenizer.fit_on_texts(train_df['IsomericSMILES']) # Fit the tokenizer on the training data\n",
        "\n",
        "# SMILES Strings to sequences\n",
        "x_train_sequences = tokenizer.texts_to_sequences(train_df['IsomericSMILES']) # Convert the training SMILES Strings to sequences\n",
        "x_test_sequences = tokenizer.texts_to_sequences(test_df['IsomericSMILES']) # Convert the testing SMILES Strings to sequences\n",
        "\n",
        "# Padding the sequences to the length of the longest SMILES String\n",
        "max_length = max(map(len, x_train_sequences)) # Get max length\n",
        "x_train_padded = pad_sequences(x_train_sequences, maxlen=max_length, padding='post') # Pad the training sequences\n",
        "x_test_padded = pad_sequences(x_test_sequences, maxlen=max_length, padding='post')\n",
        "\n",
        "# Convery to pytorch tensors\n",
        "x_train_tensor = torch.tensor(x_train_padded, dtype=torch.long) # Convert the training sequences to a PyTorch tensor\n",
        "x_test_tensor = torch.tensor(x_test_padded, dtype=torch.long)"
      ],
      "metadata": {
        "id": "cQaQI25RDnmO"
      },
      "execution_count": 23,
      "outputs": []
    },
    {
      "cell_type": "code",
      "source": [
        "x_train_tensor[0] # before embedding"
      ],
      "metadata": {
        "colab": {
          "base_uri": "https://localhost:8080/"
        },
        "id": "GiJ5THklkNyJ",
        "outputId": "374d26ef-52a7-4e5e-da76-9a5d27194ca2"
      },
      "execution_count": 24,
      "outputs": [
        {
          "output_type": "execute_result",
          "data": {
            "text/plain": [
              "tensor([ 1,  7,  1,  6,  9,  8, 11,  1,  1,  7,  1,  6,  9,  8,  2, 10, 11,  1,\n",
              "         2,  4,  5,  3,  7,  1,  6,  9,  8,  2,  1,  2,  1,  3,  1,  3, 10,  1,\n",
              "         2,  4,  5,  3,  5,  1,  3,  1, 12,  4, 10,  1, 13,  4,  1,  2, 10, 12,\n",
              "         3,  1,  4,  1,  1, 14,  4,  1,  1, 17,  4,  1,  2,  1,  4,  1, 14, 13,\n",
              "         3,  5,  1,  1, 20,  4,  1, 17,  1,  4,  1,  1,  2,  4,  1, 20,  3,  1,\n",
              "        24,  4,  1, 10,  4,  1,  2, 10, 24,  3,  7,  1,  6,  6,  9,  8, 27,  1,\n",
              "         7,  1,  6,  6,  9,  8,  2,  1, 10, 27,  1,  2,  4,  5,  3,  7,  1,  6,\n",
              "         6,  9,  8,  2,  1, 29,  4,  1,  1,  4,  1,  1,  4,  1, 29,  3, 10,  1,\n",
              "         2,  4,  5,  3,  5,  1,  3,  1,  5,  1,  0,  0,  0,  0,  0,  0,  0,  0,\n",
              "         0,  0,  0,  0,  0,  0,  0,  0,  0,  0,  0,  0,  0,  0,  0,  0,  0,  0,\n",
              "         0,  0,  0,  0,  0,  0,  0,  0,  0,  0,  0,  0,  0,  0,  0,  0,  0,  0,\n",
              "         0,  0,  0,  0,  0,  0,  0,  0,  0,  0,  0,  0,  0,  0,  0,  0,  0,  0,\n",
              "         0,  0,  0,  0,  0,  0,  0,  0,  0,  0,  0,  0,  0,  0,  0,  0,  0,  0,\n",
              "         0,  0,  0,  0,  0,  0,  0,  0,  0,  0,  0,  0,  0,  0,  0,  0,  0,  0,\n",
              "         0,  0,  0,  0,  0,  0,  0,  0,  0,  0,  0,  0,  0,  0,  0,  0,  0,  0,\n",
              "         0,  0,  0,  0,  0,  0,  0,  0,  0,  0,  0,  0,  0,  0,  0,  0,  0,  0,\n",
              "         0,  0,  0,  0,  0,  0,  0,  0,  0,  0,  0,  0,  0,  0,  0,  0,  0,  0,\n",
              "         0,  0,  0,  0,  0,  0,  0,  0,  0,  0,  0,  0,  0,  0,  0,  0,  0,  0,\n",
              "         0,  0,  0,  0,  0,  0,  0,  0,  0,  0,  0,  0,  0,  0,  0,  0,  0,  0,\n",
              "         0,  0,  0,  0,  0,  0,  0,  0,  0,  0,  0,  0,  0,  0,  0,  0,  0,  0,\n",
              "         0,  0,  0,  0,  0,  0,  0,  0,  0,  0,  0,  0,  0,  0,  0,  0,  0,  0,\n",
              "         0,  0,  0,  0,  0,  0,  0,  0,  0,  0,  0,  0,  0,  0,  0,  0,  0,  0,\n",
              "         0,  0,  0])"
            ]
          },
          "metadata": {},
          "execution_count": 24
        }
      ]
    },
    {
      "cell_type": "code",
      "source": [
        "# various parts of this code block were autofilled in with AI tools\n",
        "\n",
        "# Now we will embed the SMILES tensors\n",
        "embedding_dim = 128 #embedding dimension\n",
        "embedding_layer = torch.nn.Embedding(num_embeddings=len(tokenizer.word_index) + 1, embedding_dim=embedding_dim) # Initialize the embedding layer\n",
        "x_train_tensor = embedding_layer(x_train_tensor) # Embed the training sequences\n",
        "x_test_tensor = embedding_layer(x_test_tensor) # Embed the testing sequences"
      ],
      "metadata": {
        "id": "kM3_NAMpkcvK"
      },
      "execution_count": 27,
      "outputs": []
    },
    {
      "cell_type": "code",
      "source": [
        "x_train_tensor[0] # after embedding"
      ],
      "metadata": {
        "colab": {
          "base_uri": "https://localhost:8080/"
        },
        "id": "C3GQR-cAlSyQ",
        "outputId": "ae1279db-a33c-4b2c-92e9-8a2511f8cd0e"
      },
      "execution_count": 29,
      "outputs": [
        {
          "output_type": "execute_result",
          "data": {
            "text/plain": [
              "tensor([[ 1.3483, -0.1175,  0.0347,  ..., -1.1763, -0.7915, -0.1359],\n",
              "        [-0.4946,  0.9437,  1.7089,  ...,  0.5129, -0.5214,  1.7644],\n",
              "        [ 1.3483, -0.1175,  0.0347,  ..., -1.1763, -0.7915, -0.1359],\n",
              "        ...,\n",
              "        [ 0.0292,  0.6025, -0.3574,  ...,  1.0423,  0.3369, -2.7219],\n",
              "        [ 0.0292,  0.6025, -0.3574,  ...,  1.0423,  0.3369, -2.7219],\n",
              "        [ 0.0292,  0.6025, -0.3574,  ...,  1.0423,  0.3369, -2.7219]],\n",
              "       grad_fn=<SelectBackward0>)"
            ]
          },
          "metadata": {},
          "execution_count": 29
        }
      ]
    },
    {
      "cell_type": "code",
      "source": [
        "# various parts of this code block were autofilled in with AI tools\n",
        "\n",
        "# Apply one hot encoding to the drug class labels\n",
        "label_encoder = LabelEncoder() # Initialize the label encoder\n",
        "y_train_encoded = label_encoder.fit_transform(train_df['drug_class']) # Fit and transform the training labels\n",
        "y_test_encoded = label_encoder.transform(test_df['drug_class']) # Transform\n",
        "\n",
        "num_classes = len(label_encoder.classes_) # Get the number of classes\n",
        "y_train_tensor = F.one_hot(torch.tensor(y_train_encoded), num_classes=num_classes).float() # Convert the training labels to one-hot encoding\n",
        "y_test_tensor = F.one_hot(torch.tensor(y_test_encoded), num_classes=num_classes).float() # Convert the testing labels to one-hot encoding"
      ],
      "metadata": {
        "id": "EHloU0ZtlqQZ"
      },
      "execution_count": 32,
      "outputs": []
    },
    {
      "cell_type": "markdown",
      "source": [
        "#### Tensorizing Commentary\n",
        "\n",
        "In order to tensorize SMILES text data there are a few steps. I knew of this process as I have worked with text data in general before as well as this dataset in particular in the past. First you have to take each SMILES string and tokenize them. This involves splitting the string into either individual characters or atom-based splits that keep the molecule characters together. For this dataset we went with character based tokenizeing for the first round of modeling. The second step is considered sequencing but in the use case of TensorFlow's `tf.keras.preprocessing.text.Tokenizer` this step and the first one are done sequentially.\n",
        "\n",
        "The remaining steps involve padding and embedding. For padding we used and referenced `tensorflow.keras.preprocessing.sequence.pad_sequence` in order to standardize the length of each tokenized SMILES string. This makes sure our input layer is consistently receiving data with the same dimensions. After a bit of research on what to do next to the data we found out about embedding the vectors using an embedding layer from the `torch.nn.Embedding` docs. This embedding reduces the dimensionality of the data and keeps important structural information, which is great for LSTM's and Transformer model architectures. Lastly, the embedded vectors are compiled into simple tensor data types and saved under appropriate file names."
      ],
      "metadata": {
        "id": "dGb3mI8K4YKl"
      }
    },
    {
      "cell_type": "markdown",
      "source": [
        "# **D. Save Processed Data**"
      ],
      "metadata": {
        "id": "PqFpe6SDDeLn"
      }
    },
    {
      "cell_type": "code",
      "source": [
        "# mounting my drive\n",
        "drive.mount('/content/drive')\n",
        "\n",
        "torch.save(x_train_tensor, '/content/drive/MyDrive/X_train_tensor_d1.pt')\n",
        "torch.save(x_test_tensor, '/content/drive/MyDrive/X_test_tensor_d1.pt')\n",
        "torch.save(y_train_tensor, '/content/drive/MyDrive/y_train_tensor_d1.pt')\n",
        "torch.save(y_test_tensor, '/content/drive/MyDrive/y_test_tensor_d1.pt')"
      ],
      "metadata": {
        "colab": {
          "base_uri": "https://localhost:8080/"
        },
        "id": "vSU8bc8zAHky",
        "outputId": "2d473e7c-3303-40e4-e295-bb59c25b2a37"
      },
      "execution_count": 34,
      "outputs": [
        {
          "output_type": "stream",
          "name": "stdout",
          "text": [
            "Mounted at /content/drive\n"
          ]
        }
      ]
    },
    {
      "cell_type": "markdown",
      "source": [
        "# **References**\n",
        "- TensorFlow Developers. (2023). Tokenizer API: tf.keras.preprocessing.text.Tokenizer. Retrieved from https://www.tensorflow.org/api_docs/python/tf/keras/preprocessing/text/Tokenizer.\n",
        "- RDKit Developers. (2023). RDKit: Open-source cheminformatics. Retrieved from https://www.rdkit.org/docs/.\n",
        "- Krenn, M., Häse, F., Nigam, A., Friederich, P., & Aspuru-Guzik, A. (2020). SELFIES: A robust representation of semantically constrained graphs with an example application in chemistry. Machine Learning: Science and Technology, 1(4). Retrieved from https://iopscience.iop.org/article/10.1088/2632-2153/aba947/meta.\n",
        "- NVIDIA. (2020). CUDA Programming Guide. Retrieved from https://developer.nvidia.com/cuda-toolkit.\n",
        "- OpenAI. (2025). Response generated by ChatGPT [Large language model]. OpenAI. Retrieved from https://chat.openai.com\n",
        "- Paszke, A., Gross, S., Massa, F., Lerer, A., Bradbury, J., Chanan, G., et al. (2019). PyTorch: An imperative style, high-performance deep learning library. Retrieved from https://proceedings.neurips.cc/paper_files/paper/2019/file/bdbca288fee7f92f2bfa9f7012727740-Paper.pdf.\n",
        "- PyTorch Community. (2024). torch.Tensor.view. Retrieved from https://pytorch.org/docs/stable/generated/torch.Tensor.view.html/.\n",
        "- PyTorch Developers. (2023). Data types in PyTorch. Retrieved from https://pytorch.org/docs/stable/tensors.html#torch-tensor.\n",
        "- Raschka, S., Liu, Y., & Mirjalili, V. (2022). Machine Learning with PyTorch and Scikit-Learn. Packt Publishing.\n",
        "- Scikit-learn Developers. (2023). Preprocessing data: StandardScaler. Retrieved from https://scikit-learn.org/stable/modules/generated/sklearn.preprocessing.StandardScaler.html."
      ],
      "metadata": {
        "id": "5pFCuKh0Dh54"
      }
    }
  ]
}